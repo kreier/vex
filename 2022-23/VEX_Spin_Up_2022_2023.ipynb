{
  "nbformat": 4,
  "nbformat_minor": 0,
  "metadata": {
    "colab": {
      "provenance": []
    },
    "kernelspec": {
      "name": "python3",
      "display_name": "Python 3"
    },
    "language_info": {
      "name": "python"
    }
  },
  "cells": [
    {
      "cell_type": "code",
      "execution_count": null,
      "metadata": {
        "colab": {
          "base_uri": "https://localhost:8080/"
        },
        "id": "huLIZD2K4Cpd",
        "outputId": "2d0fbe03-fd46-4fef-c7cb-efeb779cf7e3"
      },
      "outputs": [
        {
          "output_type": "stream",
          "name": "stdout",
          "text": [
            "The flywheel spins with 1000.0 rotations per minute.\n",
            "The exit speed of the disk is 2.659881780039358 m/s.\n",
            "The disk is 0.766899263535321 seconds in the air.\n",
            "It travels 2.8847996264160423 meters far.\n",
            "The maximum height is 0.7211999066040106 meter.\n"
          ]
        }
      ],
      "source": [
        "import math\n",
        "\n",
        "motor_rpm = 200                             # green cartridge\n",
        "gear_in = 60\n",
        "gear_out = 12\n",
        "diameter_flywheel = 4 * 0.0254             # 4 inch times 0.0254 meter/inch\n",
        "rpm = motor_rpm * gear_in / gear_out\n",
        "circumference_flywheel = math.pi * diameter_flywheel\n",
        "flywheel_speed = circumference_flywheel * rpm / 60\n",
        "k = 1 / 2                                   # factor flywheel_speed / exit_speed\n",
        "exit_speed = flywheel_speed * k\n",
        "\n",
        "print(f\"The flywheel spins with {rpm} rotations per minute.\")\n",
        "print(f\"The exit speed of the disk is {exit_speed} m/s.\")\n",
        "\n",
        "# assuming 45 degrees, v_vertical = v_horizontal\n",
        "v = math.sqrt(2) * exit_speed\n",
        "v_i = v\n",
        "v_f = -v_i\n",
        "g = -9.81\n",
        "t = (v_f - v_i) / g\n",
        "d = v * t\n",
        "t_h = t / 2\n",
        "h = 0 + v * t_h + 1/2 * g * t_h **2\n",
        "\n",
        "print(f\"The disk is {t} seconds in the air.\")\n",
        "print(f\"It travels {d} meters far.\")\n",
        "print(f\"The maximum height is {h} meter.\")"
      ]
    }
  ]
}